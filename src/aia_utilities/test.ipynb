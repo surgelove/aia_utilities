{
 "cells": [
  {
   "cell_type": "markdown",
   "id": "6bb162fb",
   "metadata": {},
   "source": [
    "# Tests"
   ]
  },
  {
   "cell_type": "markdown",
   "id": "68abed75",
   "metadata": {},
   "source": [
    "## Create a test stream in redis using Aia Utilities"
   ]
  },
  {
   "cell_type": "code",
   "execution_count": 1,
   "id": "ee5f9cf9",
   "metadata": {},
   "outputs": [],
   "source": [
    "import aia_utilities as au\n",
    "\n",
    "ru = au.Redis_Utilities()\n",
    "stream = \"test_stream\""
   ]
  },
  {
   "cell_type": "markdown",
   "id": "1e4e4861",
   "metadata": {},
   "source": [
    "## Populate it with 100 entries as timestamp advances"
   ]
  },
  {
   "cell_type": "code",
   "execution_count": 3,
   "id": "c86f0d91",
   "metadata": {},
   "outputs": [
    {
     "data": {
      "text/plain": [
       "[{'key': 'test_stream',\n",
       "  'type': 'stream',\n",
       "  'ttl': -1,\n",
       "  'length': 100,\n",
       "  'items': 100,\n",
       "  'first_id': b'1757091894774-0',\n",
       "  'first_entry': '{\"timestamp\": \"2025-09-05T13:04:54.773765Z\", \"price\": 1.0, \"currency\": \"USD\"}',\n",
       "  'last_id': b'1757091894927-0',\n",
       "  'last_entry': '{\"timestamp\": \"2025-09-05T13:04:54.926992Z\", \"price\": 100.0, \"currency\": \"USD\"}'}]"
      ]
     },
     "execution_count": 3,
     "metadata": {},
     "output_type": "execute_result"
    }
   ],
   "source": [
    "from time import sleep\n",
    "from datetime import datetime\n",
    "import pytz  \n",
    "\n",
    "for i in range(100):\n",
    "    sleep(0.001)  # simulate some delay\n",
    "    # create a now timestamp with 6 decimals for new york time\n",
    "    now = datetime.now(pytz.timezone(\"America/New_York\"))\n",
    "    timestamp = now.strftime(\"%Y-%m-%dT%H:%M:%S.%fZ\")\n",
    "    item1 = {\"timestamp\": timestamp, \"price\": 1.0 + i, \"currency\": \"USD\"}\n",
    "    ru.write(stream, item1)\n",
    "\n",
    "ru.show()\n"
   ]
  },
  {
   "cell_type": "markdown",
   "id": "d7d3f6fd",
   "metadata": {},
   "source": [
    "## Populate with unsorted timestamps"
   ]
  },
  {
   "cell_type": "code",
   "execution_count": 4,
   "id": "9f31f036",
   "metadata": {},
   "outputs": [
    {
     "data": {
      "text/plain": [
       "[{'key': 'test_stream',\n",
       "  'type': 'stream',\n",
       "  'ttl': -1,\n",
       "  'length': 200,\n",
       "  'items': 200,\n",
       "  'first_id': b'1757091894774-0',\n",
       "  'first_entry': '{\"timestamp\": \"2025-09-05T13:04:54.773765Z\", \"price\": 1.0, \"currency\": \"USD\"}',\n",
       "  'last_id': b'1757091897647-3',\n",
       "  'last_entry': '{\"timestamp\": 1757091711.829953, \"price\": 100.0, \"currency\": \"USD\"}'}]"
      ]
     },
     "execution_count": 4,
     "metadata": {},
     "output_type": "execute_result"
    }
   ],
   "source": [
    "from time import sleep\n",
    "from datetime import datetime, timedelta\n",
    "import pytz  \n",
    "import random\n",
    "\n",
    "\n",
    "for i in range(100):\n",
    "    # create a random timestamp from 5 minutes in the future to 5 minutes ago and insert into the stream\n",
    "    future = datetime.now(pytz.timezone(\"America/New_York\")) + timedelta(minutes=5)\n",
    "    past = datetime.now(pytz.timezone(\"America/New_York\")) - timedelta(minutes=5)\n",
    "    timestamp = random.uniform(past.timestamp(), future.timestamp())\n",
    "    item1 = {\"timestamp\": timestamp, \"price\": 1.0 + i, \"currency\": \"USD\"}\n",
    "    ru.write(stream, item1)\n",
    "\n",
    "ru.show()\n"
   ]
  },
  {
   "cell_type": "markdown",
   "id": "5e8dd12a",
   "metadata": {},
   "source": [
    "## Read all entries and make sure they are ordered"
   ]
  },
  {
   "cell_type": "code",
   "execution_count": 30,
   "id": "c49e34de",
   "metadata": {},
   "outputs": [
    {
     "name": "stdout",
     "output_type": "stream",
     "text": [
      "Is ordered: True\n",
      "<class 'list'>\n",
      "{'timestamp': '2025-09-05 15:22:10.000000', 'instrument': 'WTICO_USD', 'price': 62.45, 'bid': 62.43, 'ask': 62.47, 'spread': 0.03999999999999915, '_id': b'1757100230013-2'}\n",
      "{'timestamp': '2025-09-05 15:22:15.000000', 'instrument': 'WTICO_USD', 'price': 62.445, 'bid': 62.43, 'ask': 62.46, 'spread': 0.030000000000001137, '_id': b'1757100230013-3'}\n",
      "{'timestamp': '2025-09-05 15:22:30.000000', 'instrument': 'WTICO_USD', 'price': 62.44, 'bid': 62.42, 'ask': 62.46, 'spread': 0.03999999999999915, '_id': b'1757100230014-0'}\n",
      "{'timestamp': '2025-09-05 15:22:35.000000', 'instrument': 'WTICO_USD', 'price': 62.435, 'bid': 62.42, 'ask': 62.45, 'spread': 0.030000000000001137, '_id': b'1757100230014-1'}\n",
      "{'timestamp': '2025-09-05 15:23:20.000000', 'instrument': 'USD_CAD', 'price': 1.384605, 'bid': 1.38451, 'ask': 1.3847, 'spread': 0.0001900000000001345, '_id': b'1757100230012-0'}\n",
      "{'timestamp': '2025-09-05 15:23:25.000000', 'instrument': 'USD_CAD', 'price': 1.38462, 'bid': 1.38453, 'ask': 1.38471, 'spread': 0.000180000000000069, '_id': b'1757100230012-1'}\n",
      "{'timestamp': '2025-09-05 15:23:30.000000', 'instrument': 'USD_CAD', 'price': 1.384565, 'bid': 1.38447, 'ask': 1.38466, 'spread': 0.00018999999999991246, '_id': b'1757100230012-2'}\n",
      "{'timestamp': '2025-09-05 15:23:35.000000', 'instrument': 'USD_CAD', 'price': 1.38456, 'bid': 1.38447, 'ask': 1.38465, 'spread': 0.00017999999999984695, '_id': b'1757100230013-0'}\n",
      "{'timestamp': '2025-09-05 15:23:40.000000', 'instrument': 'USD_CAD', 'price': 1.384565, 'bid': 1.38447, 'ask': 1.38466, 'spread': 0.00018999999999991246, '_id': b'1757100230013-1'}\n",
      "{'timestamp': '2025-09-05 15:23:40.000000', 'instrument': 'WTICO_USD', 'price': 62.425, 'bid': 62.41, 'ask': 62.44, 'spread': 0.030000000000001137, '_id': b'1757100230014-2'}\n",
      "{'timestamp': '2025-09-05 15:23:50.501709', 'instrument': 'USD_CAD', 'price': 1.38457, 'bid': 1.38447, 'ask': 1.38466, 'spread_pips': 1.9, '_id': b'1757100230502-0'}\n",
      "{'timestamp': '2025-09-05 15:23:50.503597', 'instrument': 'WTICO_USD', 'price': 62.425, 'bid': 62.41, 'ask': 62.44, 'spread_pips': 300.0, '_id': b'1757100230504-0'}\n",
      "{'timestamp': '2025-09-05 15:23:55.010541', 'instrument': 'USD_CAD', 'price': 1.38461, 'bid': 1.38452, 'ask': 1.38469, 'spread_pips': 1.7, '_id': b'1757100235011-0'}\n",
      "{'timestamp': '2025-09-05 15:23:59.521428', 'instrument': 'USD_CAD', 'price': 1.38463, 'bid': 1.38454, 'ask': 1.38471, 'spread_pips': 1.7, '_id': b'1757100239521-0'}\n"
     ]
    }
   ],
   "source": [
    "return_dict = ru.read_all('prices', order=True)\n",
    "\n",
    "# tell me if the return_dict is ordered by timestamp or not\n",
    "is_ordered = all(return_dict[i][\"timestamp\"] <= return_dict[i + 1][\"timestamp\"] for i in range(len(return_dict) - 1))\n",
    "print(f\"Is ordered: {is_ordered}\")\n",
    "\n",
    "print(type(return_dict))\n",
    "for item in return_dict:\n",
    "    print(item)"
   ]
  },
  {
   "cell_type": "code",
   "execution_count": 3,
   "id": "51dbc8ec",
   "metadata": {},
   "outputs": [
    {
     "name": "stdout",
     "output_type": "stream",
     "text": [
      "[{'timestamp': '2025-09-05T14:39:54.612824Z', 'price': 1.0, 'currency': 'USD', '_id': b'1757083194613-0'}, {'timestamp': '2025-09-05T14:39:54.718476Z', 'price': 2.0, 'currency': 'USD', '_id': b'1757083194718-0'}, {'timestamp': '2025-09-05T14:39:54.820821Z', 'price': 3.0, 'currency': 'USD', '_id': b'1757083194821-0'}, {'timestamp': '2025-09-05T14:39:54.925591Z', 'price': 4.0, 'currency': 'USD', '_id': b'1757083194927-0'}, {'timestamp': '2025-09-05T14:39:55.029381Z', 'price': 5.0, 'currency': 'USD', '_id': b'1757083195030-0'}, {'timestamp': '2025-09-05T14:39:55.131482Z', 'price': 6.0, 'currency': 'USD', '_id': b'1757083195132-0'}, {'timestamp': '2025-09-05T14:39:55.234697Z', 'price': 7.0, 'currency': 'USD', '_id': b'1757083195235-0'}, {'timestamp': '2025-09-05T14:39:55.337756Z', 'price': 8.0, 'currency': 'USD', '_id': b'1757083195338-0'}, {'timestamp': '2025-09-05T14:39:55.443256Z', 'price': 9.0, 'currency': 'USD', '_id': b'1757083195443-0'}, {'timestamp': '2025-09-05T14:39:55.546324Z', 'price': 10.0, 'currency': 'USD', '_id': b'1757083195546-0'}, {'timestamp': '2025-09-05T14:39:55.651593Z', 'price': 11.0, 'currency': 'USD', '_id': b'1757083195652-0'}, {'timestamp': '2025-09-05T14:39:55.755536Z', 'price': 12.0, 'currency': 'USD', '_id': b'1757083195755-0'}, {'timestamp': '2025-09-05T14:39:55.860947Z', 'price': 13.0, 'currency': 'USD', '_id': b'1757083195861-0'}, {'timestamp': '2025-09-05T14:39:55.962493Z', 'price': 14.0, 'currency': 'USD', '_id': b'1757083195963-0'}, {'timestamp': '2025-09-05T14:39:56.068043Z', 'price': 15.0, 'currency': 'USD', '_id': b'1757083196068-0'}, {'timestamp': '2025-09-05T14:39:56.169594Z', 'price': 16.0, 'currency': 'USD', '_id': b'1757083196170-0'}, {'timestamp': '2025-09-05T14:39:56.275200Z', 'price': 17.0, 'currency': 'USD', '_id': b'1757083196275-0'}, {'timestamp': '2025-09-05T14:39:56.379800Z', 'price': 18.0, 'currency': 'USD', '_id': b'1757083196380-0'}, {'timestamp': '2025-09-05T14:39:56.481711Z', 'price': 19.0, 'currency': 'USD', '_id': b'1757083196482-0'}, {'timestamp': '2025-09-05T14:39:56.585546Z', 'price': 20.0, 'currency': 'USD', '_id': b'1757083196586-0'}, {'timestamp': '2025-09-05T14:39:56.690685Z', 'price': 21.0, 'currency': 'USD', '_id': b'1757083196691-0'}, {'timestamp': '2025-09-05T14:39:56.794424Z', 'price': 22.0, 'currency': 'USD', '_id': b'1757083196796-0'}, {'timestamp': '2025-09-05T14:39:56.897646Z', 'price': 23.0, 'currency': 'USD', '_id': b'1757083196898-0'}, {'timestamp': '2025-09-05T14:39:57.002225Z', 'price': 24.0, 'currency': 'USD', '_id': b'1757083197002-0'}, {'timestamp': '2025-09-05T14:39:57.105354Z', 'price': 25.0, 'currency': 'USD', '_id': b'1757083197107-0'}, {'timestamp': '2025-09-05T14:39:57.212236Z', 'price': 26.0, 'currency': 'USD', '_id': b'1757083197214-0'}, {'timestamp': '2025-09-05T14:39:57.316721Z', 'price': 27.0, 'currency': 'USD', '_id': b'1757083197317-0'}, {'timestamp': '2025-09-05T14:39:57.419929Z', 'price': 28.0, 'currency': 'USD', '_id': b'1757083197420-0'}, {'timestamp': '2025-09-05T14:39:57.521759Z', 'price': 29.0, 'currency': 'USD', '_id': b'1757083197522-0'}, {'timestamp': '2025-09-05T14:39:57.626616Z', 'price': 30.0, 'currency': 'USD', '_id': b'1757083197627-0'}, {'timestamp': '2025-09-05T14:39:57.732235Z', 'price': 31.0, 'currency': 'USD', '_id': b'1757083197732-0'}, {'timestamp': '2025-09-05T14:39:57.838007Z', 'price': 32.0, 'currency': 'USD', '_id': b'1757083197839-0'}, {'timestamp': '2025-09-05T14:39:57.945692Z', 'price': 33.0, 'currency': 'USD', '_id': b'1757083197947-0'}, {'timestamp': '2025-09-05T14:39:58.052861Z', 'price': 34.0, 'currency': 'USD', '_id': b'1757083198053-0'}, {'timestamp': '2025-09-05T14:39:58.157145Z', 'price': 35.0, 'currency': 'USD', '_id': b'1757083198158-0'}, {'timestamp': '2025-09-05T14:39:58.263180Z', 'price': 36.0, 'currency': 'USD', '_id': b'1757083198263-0'}, {'timestamp': '2025-09-05T14:39:58.368197Z', 'price': 37.0, 'currency': 'USD', '_id': b'1757083198369-0'}, {'timestamp': '2025-09-05T14:39:58.471424Z', 'price': 38.0, 'currency': 'USD', '_id': b'1757083198472-0'}, {'timestamp': '2025-09-05T14:39:58.573972Z', 'price': 39.0, 'currency': 'USD', '_id': b'1757083198574-0'}, {'timestamp': '2025-09-05T14:39:58.677738Z', 'price': 40.0, 'currency': 'USD', '_id': b'1757083198678-0'}, {'timestamp': '2025-09-05T14:39:58.782251Z', 'price': 41.0, 'currency': 'USD', '_id': b'1757083198782-0'}, {'timestamp': '2025-09-05T14:39:58.887728Z', 'price': 42.0, 'currency': 'USD', '_id': b'1757083198888-0'}, {'timestamp': '2025-09-05T14:39:58.993289Z', 'price': 43.0, 'currency': 'USD', '_id': b'1757083198993-0'}, {'timestamp': '2025-09-05T14:39:59.098790Z', 'price': 44.0, 'currency': 'USD', '_id': b'1757083199099-0'}, {'timestamp': '2025-09-05T14:39:59.204132Z', 'price': 45.0, 'currency': 'USD', '_id': b'1757083199204-0'}, {'timestamp': '2025-09-05T14:39:59.309713Z', 'price': 46.0, 'currency': 'USD', '_id': b'1757083199310-0'}, {'timestamp': '2025-09-05T14:39:59.410974Z', 'price': 47.0, 'currency': 'USD', '_id': b'1757083199411-0'}, {'timestamp': '2025-09-05T14:39:59.513252Z', 'price': 48.0, 'currency': 'USD', '_id': b'1757083199513-0'}, {'timestamp': '2025-09-05T14:39:59.618287Z', 'price': 49.0, 'currency': 'USD', '_id': b'1757083199618-0'}, {'timestamp': '2025-09-05T14:39:59.718915Z', 'price': 50.0, 'currency': 'USD', '_id': b'1757083199719-0'}, {'timestamp': '2025-09-05T14:39:59.824459Z', 'price': 51.0, 'currency': 'USD', '_id': b'1757083199824-0'}, {'timestamp': '2025-09-05T14:39:59.929824Z', 'price': 52.0, 'currency': 'USD', '_id': b'1757083199931-0'}, {'timestamp': '2025-09-05T14:40:00.035791Z', 'price': 53.0, 'currency': 'USD', '_id': b'1757083200036-0'}, {'timestamp': '2025-09-05T14:40:00.141184Z', 'price': 54.0, 'currency': 'USD', '_id': b'1757083200142-0'}, {'timestamp': '2025-09-05T14:40:00.246520Z', 'price': 55.0, 'currency': 'USD', '_id': b'1757083200246-0'}, {'timestamp': '2025-09-05T14:40:00.347274Z', 'price': 56.0, 'currency': 'USD', '_id': b'1757083200347-0'}, {'timestamp': '2025-09-05T14:40:00.452247Z', 'price': 57.0, 'currency': 'USD', '_id': b'1757083200452-0'}, {'timestamp': '2025-09-05T14:40:00.554636Z', 'price': 58.0, 'currency': 'USD', '_id': b'1757083200555-0'}, {'timestamp': '2025-09-05T14:40:00.659965Z', 'price': 59.0, 'currency': 'USD', '_id': b'1757083200660-0'}, {'timestamp': '2025-09-05T14:40:00.763876Z', 'price': 60.0, 'currency': 'USD', '_id': b'1757083200764-0'}, {'timestamp': '2025-09-05T14:40:00.868970Z', 'price': 61.0, 'currency': 'USD', '_id': b'1757083200870-0'}, {'timestamp': '2025-09-05T14:40:00.975539Z', 'price': 62.0, 'currency': 'USD', '_id': b'1757083200977-0'}, {'timestamp': '2025-09-05T14:40:01.083287Z', 'price': 63.0, 'currency': 'USD', '_id': b'1757083201084-0'}, {'timestamp': '2025-09-05T14:40:01.186768Z', 'price': 64.0, 'currency': 'USD', '_id': b'1757083201188-0'}, {'timestamp': '2025-09-05T14:40:01.290015Z', 'price': 65.0, 'currency': 'USD', '_id': b'1757083201291-0'}, {'timestamp': '2025-09-05T14:40:01.397470Z', 'price': 66.0, 'currency': 'USD', '_id': b'1757083201398-0'}, {'timestamp': '2025-09-05T14:40:01.502291Z', 'price': 67.0, 'currency': 'USD', '_id': b'1757083201503-0'}, {'timestamp': '2025-09-05T14:40:01.608293Z', 'price': 68.0, 'currency': 'USD', '_id': b'1757083201608-0'}, {'timestamp': '2025-09-05T14:40:01.709974Z', 'price': 69.0, 'currency': 'USD', '_id': b'1757083201710-0'}, {'timestamp': '2025-09-05T14:40:01.815630Z', 'price': 70.0, 'currency': 'USD', '_id': b'1757083201816-0'}, {'timestamp': '2025-09-05T14:40:01.921290Z', 'price': 71.0, 'currency': 'USD', '_id': b'1757083201922-0'}, {'timestamp': '2025-09-05T14:40:02.023580Z', 'price': 72.0, 'currency': 'USD', '_id': b'1757083202023-0'}, {'timestamp': '2025-09-05T14:40:02.126685Z', 'price': 73.0, 'currency': 'USD', '_id': b'1757083202128-0'}, {'timestamp': '2025-09-05T14:40:02.232241Z', 'price': 74.0, 'currency': 'USD', '_id': b'1757083202233-0'}, {'timestamp': '2025-09-05T14:40:02.338745Z', 'price': 75.0, 'currency': 'USD', '_id': b'1757083202339-0'}, {'timestamp': '2025-09-05T14:40:02.443328Z', 'price': 76.0, 'currency': 'USD', '_id': b'1757083202443-0'}, {'timestamp': '2025-09-05T14:40:02.545772Z', 'price': 77.0, 'currency': 'USD', '_id': b'1757083202546-0'}, {'timestamp': '2025-09-05T14:40:02.646692Z', 'price': 78.0, 'currency': 'USD', '_id': b'1757083202647-0'}, {'timestamp': '2025-09-05T14:40:02.752273Z', 'price': 79.0, 'currency': 'USD', '_id': b'1757083202752-0'}, {'timestamp': '2025-09-05T14:40:02.854918Z', 'price': 80.0, 'currency': 'USD', '_id': b'1757083202856-0'}, {'timestamp': '2025-09-05T14:40:02.956564Z', 'price': 81.0, 'currency': 'USD', '_id': b'1757083202957-0'}, {'timestamp': '2025-09-05T14:40:03.062186Z', 'price': 82.0, 'currency': 'USD', '_id': b'1757083203063-0'}, {'timestamp': '2025-09-05T14:40:03.168164Z', 'price': 83.0, 'currency': 'USD', '_id': b'1757083203169-0'}, {'timestamp': '2025-09-05T14:40:03.273034Z', 'price': 84.0, 'currency': 'USD', '_id': b'1757083203273-0'}, {'timestamp': '2025-09-05T14:40:03.377795Z', 'price': 85.0, 'currency': 'USD', '_id': b'1757083203378-0'}, {'timestamp': '2025-09-05T14:40:03.480477Z', 'price': 86.0, 'currency': 'USD', '_id': b'1757083203480-0'}, {'timestamp': '2025-09-05T14:40:03.585612Z', 'price': 87.0, 'currency': 'USD', '_id': b'1757083203585-0'}, {'timestamp': '2025-09-05T14:40:03.687746Z', 'price': 88.0, 'currency': 'USD', '_id': b'1757083203688-0'}, {'timestamp': '2025-09-05T14:40:03.793382Z', 'price': 89.0, 'currency': 'USD', '_id': b'1757083203793-0'}, {'timestamp': '2025-09-05T14:40:03.898890Z', 'price': 90.0, 'currency': 'USD', '_id': b'1757083203900-0'}, {'timestamp': '2025-09-05T14:40:04.003549Z', 'price': 91.0, 'currency': 'USD', '_id': b'1757083204005-0'}, {'timestamp': '2025-09-05T14:40:04.112158Z', 'price': 92.0, 'currency': 'USD', '_id': b'1757083204114-0'}, {'timestamp': '2025-09-05T14:40:04.215891Z', 'price': 93.0, 'currency': 'USD', '_id': b'1757083204217-0'}, {'timestamp': '2025-09-05T14:40:04.322161Z', 'price': 94.0, 'currency': 'USD', '_id': b'1757083204322-0'}, {'timestamp': '2025-09-05T14:40:04.427835Z', 'price': 95.0, 'currency': 'USD', '_id': b'1757083204429-0'}, {'timestamp': '2025-09-05T14:40:04.533771Z', 'price': 96.0, 'currency': 'USD', '_id': b'1757083204534-0'}, {'timestamp': '2025-09-05T14:40:04.639553Z', 'price': 97.0, 'currency': 'USD', '_id': b'1757083204639-0'}, {'timestamp': '2025-09-05T14:40:04.744459Z', 'price': 98.0, 'currency': 'USD', '_id': b'1757083204744-0'}, {'timestamp': '2025-09-05T14:40:04.849887Z', 'price': 99.0, 'currency': 'USD', '_id': b'1757083204850-0'}, {'timestamp': '2025-09-05T14:40:04.954374Z', 'price': 100.0, 'currency': 'USD', '_id': b'1757083204955-0'}, {'timestamp': '2025-09-05T14:55:04.006715Z', 'price': 1.0, 'currency': 'USD', '_id': b'1757084104010-0'}, {'timestamp': '2025-09-05T14:55:04.113113Z', 'price': 2.0, 'currency': 'USD', '_id': b'1757084104113-0'}, {'timestamp': '2025-09-05T14:55:04.218584Z', 'price': 3.0, 'currency': 'USD', '_id': b'1757084104219-0'}, {'timestamp': '2025-09-05T14:55:04.324331Z', 'price': 4.0, 'currency': 'USD', '_id': b'1757084104325-0'}, {'timestamp': '2025-09-05T14:55:04.429147Z', 'price': 5.0, 'currency': 'USD', '_id': b'1757084104429-0'}, {'timestamp': '2025-09-05T14:55:04.533905Z', 'price': 6.0, 'currency': 'USD', '_id': b'1757084104534-0'}, {'timestamp': '2025-09-05T14:55:04.635247Z', 'price': 7.0, 'currency': 'USD', '_id': b'1757084104635-0'}, {'timestamp': '2025-09-05T14:55:04.740938Z', 'price': 8.0, 'currency': 'USD', '_id': b'1757084104741-0'}, {'timestamp': '2025-09-05T14:55:04.844212Z', 'price': 9.0, 'currency': 'USD', '_id': b'1757084104844-0'}, {'timestamp': '2025-09-05T14:55:04.947202Z', 'price': 10.0, 'currency': 'USD', '_id': b'1757084104947-0'}, {'timestamp': '2025-09-05T14:55:05.053060Z', 'price': 11.0, 'currency': 'USD', '_id': b'1757084105053-0'}, {'timestamp': '2025-09-05T14:55:05.154345Z', 'price': 12.0, 'currency': 'USD', '_id': b'1757084105154-0'}, {'timestamp': '2025-09-05T14:55:05.257853Z', 'price': 13.0, 'currency': 'USD', '_id': b'1757084105258-0'}, {'timestamp': '2025-09-05T14:55:05.361333Z', 'price': 14.0, 'currency': 'USD', '_id': b'1757084105361-0'}, {'timestamp': '2025-09-05T14:55:05.467038Z', 'price': 15.0, 'currency': 'USD', '_id': b'1757084105467-0'}, {'timestamp': '2025-09-05T14:55:05.572654Z', 'price': 16.0, 'currency': 'USD', '_id': b'1757084105573-0'}, {'timestamp': '2025-09-05T14:55:05.677558Z', 'price': 17.0, 'currency': 'USD', '_id': b'1757084105678-0'}, {'timestamp': '2025-09-05T14:55:05.783276Z', 'price': 18.0, 'currency': 'USD', '_id': b'1757084105784-0'}, {'timestamp': '2025-09-05T14:55:05.887923Z', 'price': 19.0, 'currency': 'USD', '_id': b'1757084105888-0'}, {'timestamp': '2025-09-05T14:55:05.993637Z', 'price': 20.0, 'currency': 'USD', '_id': b'1757084105994-0'}, {'timestamp': '2025-09-05T14:55:06.095374Z', 'price': 21.0, 'currency': 'USD', '_id': b'1757084106095-0'}, {'timestamp': '2025-09-05T14:55:06.201052Z', 'price': 22.0, 'currency': 'USD', '_id': b'1757084106201-0'}, {'timestamp': '2025-09-05T14:55:06.306660Z', 'price': 23.0, 'currency': 'USD', '_id': b'1757084106307-0'}, {'timestamp': '2025-09-05T14:55:06.410892Z', 'price': 24.0, 'currency': 'USD', '_id': b'1757084106411-0'}, {'timestamp': '2025-09-05T14:55:06.513684Z', 'price': 25.0, 'currency': 'USD', '_id': b'1757084106514-0'}, {'timestamp': '2025-09-05T14:55:06.618734Z', 'price': 26.0, 'currency': 'USD', '_id': b'1757084106619-0'}, {'timestamp': '2025-09-05T14:55:06.721242Z', 'price': 27.0, 'currency': 'USD', '_id': b'1757084106721-0'}, {'timestamp': '2025-09-05T14:55:06.827077Z', 'price': 28.0, 'currency': 'USD', '_id': b'1757084106827-0'}, {'timestamp': '2025-09-05T14:55:06.930832Z', 'price': 29.0, 'currency': 'USD', '_id': b'1757084106931-0'}, {'timestamp': '2025-09-05T14:55:07.035412Z', 'price': 30.0, 'currency': 'USD', '_id': b'1757084107036-0'}, {'timestamp': '2025-09-05T14:55:07.137707Z', 'price': 31.0, 'currency': 'USD', '_id': b'1757084107138-0'}, {'timestamp': '2025-09-05T14:55:07.240290Z', 'price': 32.0, 'currency': 'USD', '_id': b'1757084107240-0'}, {'timestamp': '2025-09-05T14:55:07.345926Z', 'price': 33.0, 'currency': 'USD', '_id': b'1757084107346-0'}, {'timestamp': '2025-09-05T14:55:07.451808Z', 'price': 34.0, 'currency': 'USD', '_id': b'1757084107452-0'}, {'timestamp': '2025-09-05T14:55:07.555863Z', 'price': 35.0, 'currency': 'USD', '_id': b'1757084107557-0'}, {'timestamp': '2025-09-05T14:55:07.658925Z', 'price': 36.0, 'currency': 'USD', '_id': b'1757084107659-0'}, {'timestamp': '2025-09-05T14:55:07.764183Z', 'price': 37.0, 'currency': 'USD', '_id': b'1757084107764-0'}, {'timestamp': '2025-09-05T14:55:07.870008Z', 'price': 38.0, 'currency': 'USD', '_id': b'1757084107870-0'}, {'timestamp': '2025-09-05T14:55:07.972291Z', 'price': 39.0, 'currency': 'USD', '_id': b'1757084107972-0'}, {'timestamp': '2025-09-05T14:55:08.077623Z', 'price': 40.0, 'currency': 'USD', '_id': b'1757084108079-0'}, {'timestamp': '2025-09-05T14:55:08.182185Z', 'price': 41.0, 'currency': 'USD', '_id': b'1757084108184-0'}, {'timestamp': '2025-09-05T14:55:08.286320Z', 'price': 42.0, 'currency': 'USD', '_id': b'1757084108287-0'}, {'timestamp': '2025-09-05T14:55:08.389621Z', 'price': 43.0, 'currency': 'USD', '_id': b'1757084108390-0'}, {'timestamp': '2025-09-05T14:55:08.495234Z', 'price': 44.0, 'currency': 'USD', '_id': b'1757084108495-0'}, {'timestamp': '2025-09-05T14:55:08.597137Z', 'price': 45.0, 'currency': 'USD', '_id': b'1757084108597-0'}, {'timestamp': '2025-09-05T14:55:08.702079Z', 'price': 46.0, 'currency': 'USD', '_id': b'1757084108702-0'}, {'timestamp': '2025-09-05T14:55:08.803113Z', 'price': 47.0, 'currency': 'USD', '_id': b'1757084108804-0'}, {'timestamp': '2025-09-05T14:55:08.909269Z', 'price': 48.0, 'currency': 'USD', '_id': b'1757084108911-0'}, {'timestamp': '2025-09-05T14:55:09.011656Z', 'price': 49.0, 'currency': 'USD', '_id': b'1757084109012-0'}, {'timestamp': '2025-09-05T14:55:09.117705Z', 'price': 50.0, 'currency': 'USD', '_id': b'1757084109119-0'}, {'timestamp': '2025-09-05T14:55:09.222720Z', 'price': 51.0, 'currency': 'USD', '_id': b'1757084109224-0'}, {'timestamp': '2025-09-05T14:55:09.325588Z', 'price': 52.0, 'currency': 'USD', '_id': b'1757084109327-0'}, {'timestamp': '2025-09-05T14:55:09.431216Z', 'price': 53.0, 'currency': 'USD', '_id': b'1757084109433-0'}, {'timestamp': '2025-09-05T14:55:09.538869Z', 'price': 54.0, 'currency': 'USD', '_id': b'1757084109540-0'}, {'timestamp': '2025-09-05T14:55:09.645916Z', 'price': 55.0, 'currency': 'USD', '_id': b'1757084109646-0'}, {'timestamp': '2025-09-05T14:55:09.747800Z', 'price': 56.0, 'currency': 'USD', '_id': b'1757084109748-0'}, {'timestamp': '2025-09-05T14:55:09.852081Z', 'price': 57.0, 'currency': 'USD', '_id': b'1757084109852-0'}, {'timestamp': '2025-09-05T14:55:09.957701Z', 'price': 58.0, 'currency': 'USD', '_id': b'1757084109958-0'}, {'timestamp': '2025-09-05T14:55:10.063364Z', 'price': 59.0, 'currency': 'USD', '_id': b'1757084110063-0'}, {'timestamp': '2025-09-05T14:55:10.168757Z', 'price': 60.0, 'currency': 'USD', '_id': b'1757084110169-0'}, {'timestamp': '2025-09-05T14:55:10.274417Z', 'price': 61.0, 'currency': 'USD', '_id': b'1757084110275-0'}, {'timestamp': '2025-09-05T14:55:10.377623Z', 'price': 62.0, 'currency': 'USD', '_id': b'1757084110378-0'}, {'timestamp': '2025-09-05T14:55:10.478924Z', 'price': 63.0, 'currency': 'USD', '_id': b'1757084110479-0'}, {'timestamp': '2025-09-05T14:55:10.584752Z', 'price': 64.0, 'currency': 'USD', '_id': b'1757084110585-0'}, {'timestamp': '2025-09-05T14:55:10.689706Z', 'price': 65.0, 'currency': 'USD', '_id': b'1757084110690-0'}, {'timestamp': '2025-09-05T14:55:10.794266Z', 'price': 66.0, 'currency': 'USD', '_id': b'1757084110794-0'}, {'timestamp': '2025-09-05T14:55:10.897055Z', 'price': 67.0, 'currency': 'USD', '_id': b'1757084110897-0'}, {'timestamp': '2025-09-05T14:55:11.001036Z', 'price': 68.0, 'currency': 'USD', '_id': b'1757084111001-0'}, {'timestamp': '2025-09-05T14:55:11.106683Z', 'price': 69.0, 'currency': 'USD', '_id': b'1757084111107-0'}, {'timestamp': '2025-09-05T14:55:11.210960Z', 'price': 70.0, 'currency': 'USD', '_id': b'1757084111211-0'}, {'timestamp': '2025-09-05T14:55:11.315547Z', 'price': 71.0, 'currency': 'USD', '_id': b'1757084111316-0'}, {'timestamp': '2025-09-05T14:55:11.419805Z', 'price': 72.0, 'currency': 'USD', '_id': b'1757084111420-0'}, {'timestamp': '2025-09-05T14:55:11.525381Z', 'price': 73.0, 'currency': 'USD', '_id': b'1757084111525-0'}, {'timestamp': '2025-09-05T14:55:11.627614Z', 'price': 74.0, 'currency': 'USD', '_id': b'1757084111628-0'}, {'timestamp': '2025-09-05T14:55:11.732755Z', 'price': 75.0, 'currency': 'USD', '_id': b'1757084111733-0'}, {'timestamp': '2025-09-05T14:55:11.836458Z', 'price': 76.0, 'currency': 'USD', '_id': b'1757084111837-0'}, {'timestamp': '2025-09-05T14:55:11.939770Z', 'price': 77.0, 'currency': 'USD', '_id': b'1757084111940-0'}, {'timestamp': '2025-09-05T14:55:12.044328Z', 'price': 78.0, 'currency': 'USD', '_id': b'1757084112045-0'}, {'timestamp': '2025-09-05T14:55:12.146734Z', 'price': 79.0, 'currency': 'USD', '_id': b'1757084112148-0'}, {'timestamp': '2025-09-05T14:55:12.248519Z', 'price': 80.0, 'currency': 'USD', '_id': b'1757084112250-0'}, {'timestamp': '2025-09-05T14:55:12.353209Z', 'price': 81.0, 'currency': 'USD', '_id': b'1757084112357-0'}, {'timestamp': '2025-09-05T14:55:12.458130Z', 'price': 82.0, 'currency': 'USD', '_id': b'1757084112459-0'}, {'timestamp': '2025-09-05T14:55:12.560963Z', 'price': 83.0, 'currency': 'USD', '_id': b'1757084112561-0'}, {'timestamp': '2025-09-05T14:55:12.667077Z', 'price': 84.0, 'currency': 'USD', '_id': b'1757084112670-0'}, {'timestamp': '2025-09-05T14:55:12.771406Z', 'price': 85.0, 'currency': 'USD', '_id': b'1757084112771-0'}, {'timestamp': '2025-09-05T14:55:12.874577Z', 'price': 86.0, 'currency': 'USD', '_id': b'1757084112875-0'}, {'timestamp': '2025-09-05T14:55:12.980487Z', 'price': 87.0, 'currency': 'USD', '_id': b'1757084112981-0'}, {'timestamp': '2025-09-05T14:55:13.086443Z', 'price': 88.0, 'currency': 'USD', '_id': b'1757084113087-0'}, {'timestamp': '2025-09-05T14:55:13.188257Z', 'price': 89.0, 'currency': 'USD', '_id': b'1757084113189-0'}, {'timestamp': '2025-09-05T14:55:13.293804Z', 'price': 90.0, 'currency': 'USD', '_id': b'1757084113294-0'}, {'timestamp': '2025-09-05T14:55:13.399997Z', 'price': 91.0, 'currency': 'USD', '_id': b'1757084113400-0'}, {'timestamp': '2025-09-05T14:55:13.503618Z', 'price': 92.0, 'currency': 'USD', '_id': b'1757084113504-0'}, {'timestamp': '2025-09-05T14:55:13.609652Z', 'price': 93.0, 'currency': 'USD', '_id': b'1757084113610-0'}, {'timestamp': '2025-09-05T14:55:13.715417Z', 'price': 94.0, 'currency': 'USD', '_id': b'1757084113716-0'}, {'timestamp': '2025-09-05T14:55:13.819807Z', 'price': 95.0, 'currency': 'USD', '_id': b'1757084113820-0'}, {'timestamp': '2025-09-05T14:55:13.921459Z', 'price': 96.0, 'currency': 'USD', '_id': b'1757084113921-0'}, {'timestamp': '2025-09-05T14:55:14.026753Z', 'price': 97.0, 'currency': 'USD', '_id': b'1757084114027-0'}, {'timestamp': '2025-09-05T14:55:14.132482Z', 'price': 98.0, 'currency': 'USD', '_id': b'1757084114132-0'}, {'timestamp': '2025-09-05T14:55:14.235486Z', 'price': 99.0, 'currency': 'USD', '_id': b'1757084114236-0'}, {'timestamp': '2025-09-05T14:55:14.336734Z', 'price': 100.0, 'currency': 'USD', '_id': b'1757084114337-0'}]\n"
     ]
    },
    {
     "ename": "AssertionError",
     "evalue": "",
     "output_type": "error",
     "traceback": [
      "\u001b[0;31m---------------------------------------------------------------------------\u001b[0m",
      "\u001b[0;31mAssertionError\u001b[0m                            Traceback (most recent call last)",
      "Cell \u001b[0;32mIn[3], line 8\u001b[0m\n\u001b[1;32m      6\u001b[0m \u001b[38;5;66;03m# ensure items contain the data we wrote\u001b[39;00m\n\u001b[1;32m      7\u001b[0m prices \u001b[38;5;241m=\u001b[39m [i\u001b[38;5;241m.\u001b[39mget(\u001b[38;5;124m'\u001b[39m\u001b[38;5;124mprice\u001b[39m\u001b[38;5;124m'\u001b[39m) \u001b[38;5;28;01mfor\u001b[39;00m i \u001b[38;5;129;01min\u001b[39;00m all_items]\n\u001b[0;32m----> 8\u001b[0m \u001b[38;5;28;01massert\u001b[39;00m \u001b[38;5;241m1.0\u001b[39m \u001b[38;5;129;01min\u001b[39;00m prices \u001b[38;5;129;01mand\u001b[39;00m \u001b[38;5;241m1.1\u001b[39m \u001b[38;5;129;01min\u001b[39;00m prices\n\u001b[1;32m     10\u001b[0m \u001b[38;5;66;03m# test read_each - start a reader that will collect two items\u001b[39;00m\n\u001b[1;32m     11\u001b[0m results \u001b[38;5;241m=\u001b[39m []\n",
      "\u001b[0;31mAssertionError\u001b[0m: "
     ]
    }
   ],
   "source": [
    "\n",
    "all_items = ru.read_all(stream)\n",
    "print(all_items)\n",
    "assert isinstance(all_items, list)\n",
    "assert len(all_items) >= 2\n",
    "\n",
    "# ensure items contain the data we wrote\n",
    "prices = [i.get('price') for i in all_items]\n",
    "assert 1.0 in prices and 1.1 in prices\n",
    "\n",
    "# test read_each - start a reader that will collect two items\n",
    "results = []\n",
    "print(results)\n",
    "\n",
    "def reader():\n",
    "    gen = ru.read_each(stream)\n",
    "    # read first two entries\n",
    "    for _ in range(2):\n",
    "        results.append(next(gen))\n",
    "\n",
    "reader()\n",
    "\n",
    "assert len(results) == 2\n",
    "assert results[0]['price'] in prices\n",
    "assert results[1]['price'] in prices\n",
    "\n",
    "\n"
   ]
  },
  {
   "cell_type": "code",
   "execution_count": 26,
   "id": "1e40697d",
   "metadata": {},
   "outputs": [
    {
     "data": {
      "text/plain": [
       "[{'key': 'prices',\n",
       "  'type': 'stream',\n",
       "  'ttl': -1,\n",
       "  'length': 14,\n",
       "  'items': 14,\n",
       "  'first_id': b'1757100230012-0',\n",
       "  'first_entry': '{\"timestamp\": \"2025-09-05 15:23:20.000000\", \"instrument\": \"USD_CAD\", \"price\": 1.384605, \"bid\": 1.38451, \"ask\": 1.3847, \"spread\": 0.0001900000000001345}',\n",
       "  'last_id': b'1757100239521-0',\n",
       "  'last_entry': '{\"timestamp\": \"2025-09-05 15:23:59.521428\", \"instrument\": \"USD_CAD\", \"price\": 1.38463, \"bid\": 1.38454, \"ask\": 1.38471, \"spread_pips\": 1.7}'}]"
      ]
     },
     "execution_count": 26,
     "metadata": {},
     "output_type": "execute_result"
    }
   ],
   "source": [
    "ru.show()"
   ]
  },
  {
   "cell_type": "code",
   "execution_count": 24,
   "id": "84b3c223",
   "metadata": {},
   "outputs": [
    {
     "data": {
      "text/plain": [
       "True"
      ]
     },
     "execution_count": 24,
     "metadata": {},
     "output_type": "execute_result"
    }
   ],
   "source": [
    "ru.delete('prices')"
   ]
  },
  {
   "cell_type": "code",
   "execution_count": 11,
   "id": "41f870d2",
   "metadata": {},
   "outputs": [
    {
     "data": {
      "text/plain": [
       "25"
      ]
     },
     "execution_count": 11,
     "metadata": {},
     "output_type": "execute_result"
    }
   ],
   "source": [
    "ru.trim('test_stream', '2025-09-05T14:55:06.612824Z')  # example timestamp"
   ]
  },
  {
   "cell_type": "markdown",
   "id": "6e315bac",
   "metadata": {},
   "source": [
    "## Test read_each by inserting items randomly and reading them"
   ]
  },
  {
   "cell_type": "code",
   "execution_count": null,
   "id": "d2c332eb",
   "metadata": {},
   "outputs": [
    {
     "name": "stderr",
     "output_type": "stream",
     "text": [
      "Exception in thread Thread-11 (insert_entries):\n",
      "Traceback (most recent call last):\n",
      "  File \u001b[35m\"/Library/Frameworks/Python.framework/Versions/3.13/lib/python3.13/threading.py\"\u001b[0m, line \u001b[35m1041\u001b[0m, in \u001b[35m_bootstrap_inner\u001b[0m\n",
      "    \u001b[31mself.run\u001b[0m\u001b[1;31m()\u001b[0m\n",
      "    \u001b[31m~~~~~~~~\u001b[0m\u001b[1;31m^^\u001b[0m\n",
      "  File \u001b[35m\"/Users/code/Library/Python/3.13/lib/python/site-packages/ipykernel/ipkernel.py\"\u001b[0m, line \u001b[35m766\u001b[0m, in \u001b[35mrun_closure\u001b[0m\n",
      "    \u001b[31m_threading_Thread_run\u001b[0m\u001b[1;31m(self)\u001b[0m\n",
      "    \u001b[31m~~~~~~~~~~~~~~~~~~~~~\u001b[0m\u001b[1;31m^^^^^^\u001b[0m\n",
      "  File \u001b[35m\"/Library/Frameworks/Python.framework/Versions/3.13/lib/python3.13/threading.py\"\u001b[0m, line \u001b[35m992\u001b[0m, in \u001b[35mrun\u001b[0m\n",
      "    \u001b[31mself._target\u001b[0m\u001b[1;31m(*self._args, **self._kwargs)\u001b[0m\n",
      "    \u001b[31m~~~~~~~~~~~~\u001b[0m\u001b[1;31m^^^^^^^^^^^^^^^^^^^^^^^^^^^^^\u001b[0m\n",
      "  File \u001b[35m\"/var/folders/d9/rdtj7fbj1lz5ybbbf6vstzbm0000gn/T/ipykernel_42203/2235408567.py\"\u001b[0m, line \u001b[35m9\u001b[0m, in \u001b[35minsert_entries\u001b[0m\n",
      "    sleep(\u001b[1;31mrandom\u001b[0m.randint(0, 5))\n",
      "          \u001b[1;31m^^^^^^\u001b[0m\n",
      "\u001b[1;35mNameError\u001b[0m: \u001b[35mname 'random' is not defined. Did you forget to import 'random'?\u001b[0m\n"
     ]
    }
   ],
   "source": [
    "# While you read each, also insert some entries once every 10 seconds, in a separate thread\n",
    "import threading\n",
    "from time import sleep    \n",
    "import random\n",
    "\n",
    "ru.delete('test_stream')\n",
    "def insert_entries():\n",
    "    # make the range 0-5 random\n",
    "    for i in range(5):\n",
    "        sleep(random.randint(0, 5))\n",
    "        # create a now timestamp with 6 decimals for new york time\n",
    "        now = datetime.now(pytz.timezone(\"America/New_York\"))\n",
    "        timestamp = now.strftime(\"%Y-%m-%dT%H:%M:%S.%fZ\")\n",
    "        item1 = {\"timestamp\": timestamp, \"price\": 1.0 + i, \"currency\": \"USD\"}\n",
    "        ru.write(stream, item1)\n",
    "\n",
    "# While you read each, also insert some entries once every 10 seconds, in a separate thread\n",
    "thread = threading.Thread(target=insert_entries)\n",
    "thread.start()\n",
    "\n",
    "for entry in ru.read_each(stream):\n",
    "    print(entry)"
   ]
  },
  {
   "cell_type": "code",
   "execution_count": 6,
   "id": "472762ac",
   "metadata": {},
   "outputs": [
    {
     "name": "stdout",
     "output_type": "stream",
     "text": [
      "946684801123 946684801123456\n"
     ]
    }
   ],
   "source": [
    "from datetime import datetime, timezone\n",
    "\n",
    "# example strings\n",
    "s1 = \"2000-01-01 00:00:01.123456\"            # space separated\n",
    "s2 = \"2000-01-01T00:00:01.123456Z\"           # ISO with Z\n",
    "\n",
    "# parse and treat naive datetimes as UTC\n",
    "dt1 = datetime.strptime(s1, \"%Y-%m-%d %H:%M:%S.%f\").replace(tzinfo=timezone.utc)\n",
    "dt2 = datetime.fromisoformat(s2.replace(\"Z\", \"+00:00\"))\n",
    "\n",
    "# integer milliseconds\n",
    "ms1 = int(dt1.timestamp() * 1_000)   # 1_000 ms per sec\n",
    "ms2 = int(dt2.timestamp() * 1_000)\n",
    "\n",
    "# integer microseconds\n",
    "us1 = int(dt1.timestamp() * 1_000_000)\n",
    "us2 = int(dt2.timestamp() * 1_000_000)\n",
    "\n",
    "print(ms1, us1)"
   ]
  },
  {
   "cell_type": "markdown",
   "id": "cc929254",
   "metadata": {},
   "source": [
    "## Is keeping the microseconds as ints "
   ]
  },
  {
   "cell_type": "code",
   "execution_count": 7,
   "id": "d7f5c401",
   "metadata": {},
   "outputs": [
    {
     "name": "stdout",
     "output_type": "stream",
     "text": [
      "years to JS safe-int: 255.42228983248202\n",
      "years to Redis 64-bit: 292241.024414203\n"
     ]
    }
   ],
   "source": [
    "# compute_years_from_micro.py\n",
    "start_us = 946_684_801_123_456\n",
    "JS_MAX = 2**53 - 1\n",
    "REDIS_MAX = 2**63 - 1\n",
    "US_PER_YEAR = 365.25 * 24 * 3600 * 1_000_000  # microseconds/year\n",
    "\n",
    "years_to_js = (JS_MAX - start_us) / US_PER_YEAR\n",
    "years_to_redis = (REDIS_MAX - start_us) / US_PER_YEAR\n",
    "\n",
    "print(\"years to JS safe-int:\", years_to_js)\n",
    "print(\"years to Redis 64-bit:\", years_to_redis)\n"
   ]
  },
  {
   "cell_type": "code",
   "execution_count": 8,
   "id": "2eaf61a1",
   "metadata": {},
   "outputs": [
    {
     "name": "stdout",
     "output_type": "stream",
     "text": [
      "1757107243774\n",
      "1757092843774\n",
      "1757092843774\n"
     ]
    },
    {
     "name": "stderr",
     "output_type": "stream",
     "text": [
      "/var/folders/d9/rdtj7fbj1lz5ybbbf6vstzbm0000gn/T/ipykernel_42236/3226634443.py:3: DeprecationWarning: datetime.datetime.utcnow() is deprecated and scheduled for removal in a future version. Use timezone-aware objects to represent datetimes in UTC: datetime.datetime.now(datetime.UTC).\n",
      "  ts_ms = int(datetime.utcnow().timestamp() * 1000)\n"
     ]
    }
   ],
   "source": [
    "# current (works, a bit heavier)\n",
    "from datetime import datetime\n",
    "ts_ms = int(datetime.utcnow().timestamp() * 1000)\n",
    "print(ts_ms)\n",
    "\n",
    "# faster: integer ms using time.time_ns()\n",
    "import time\n",
    "ts_ms = time.time_ns() // 1_000_000\n",
    "print(ts_ms)\n",
    "\n",
    "# also OK: float-based (slightly slower than time_ns)\n",
    "ts_ms = int(time.time() * 1000)\n",
    "print(ts_ms)"
   ]
  },
  {
   "cell_type": "code",
   "execution_count": null,
   "id": "1adf2502",
   "metadata": {},
   "outputs": [],
   "source": []
  }
 ],
 "metadata": {
  "kernelspec": {
   "display_name": "Python 3",
   "language": "python",
   "name": "python3"
  },
  "language_info": {
   "codemirror_mode": {
    "name": "ipython",
    "version": 3
   },
   "file_extension": ".py",
   "mimetype": "text/x-python",
   "name": "python",
   "nbconvert_exporter": "python",
   "pygments_lexer": "ipython3",
   "version": "3.13.1"
  }
 },
 "nbformat": 4,
 "nbformat_minor": 5
}
