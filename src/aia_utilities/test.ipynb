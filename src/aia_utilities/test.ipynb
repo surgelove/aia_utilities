{
 "cells": [
  {
   "cell_type": "markdown",
   "id": "6bb162fb",
   "metadata": {},
   "source": [
    "# Tests"
   ]
  },
  {
   "cell_type": "markdown",
   "id": "68abed75",
   "metadata": {},
   "source": [
    "## Create a stream in redis using Aia Utilities"
   ]
  },
  {
   "cell_type": "code",
   "execution_count": null,
   "id": "ee5f9cf9",
   "metadata": {},
   "outputs": [],
   "source": [
    "from zoneinfo import ZoneInfo\n",
    "import aia_utilities as au\n",
    "from datetime import datetime\n",
    "import pytz\n",
    "\n",
    "ru = au.Redis_Utilities()\n",
    "tm = au.Time_Management()\n",
    "\n",
    "# stream = 'test_stream'\n",
    "stream = 'prices'\n"
   ]
  },
  {
   "cell_type": "markdown",
   "id": "1e4e4861",
   "metadata": {},
   "source": [
    "## Populate it with n entries ordered or random timestamps"
   ]
  },
  {
   "cell_type": "code",
   "execution_count": null,
   "id": "c86f0d91",
   "metadata": {},
   "outputs": [],
   "source": [
    "from time import sleep\n",
    "from datetime import datetime, timedelta\n",
    "import pytz  \n",
    "import random\n",
    "\n",
    "ordered = False\n",
    "iterations = 100\n",
    "\n",
    "for i in range(iterations):\n",
    "\n",
    "    if ordered:\n",
    "        timestamp = tm.datetime_to_string(datetime.now())\n",
    "    else:\n",
    "        timestamp = tm.datetime_to_string(random.uniform(datetime.now() + timedelta(minutes=5), datetime.now() - timedelta(minutes=5)))\n",
    "    item1 = {\"timestamp\": timestamp, \"price\": 1.0 + i, \"currency\": \"USD\"}\n",
    "    ru.write(stream, item1)"
   ]
  },
  {
   "cell_type": "markdown",
   "id": "8c6df20c",
   "metadata": {},
   "source": [
    "## Show the stream"
   ]
  },
  {
   "cell_type": "code",
   "execution_count": null,
   "id": "7fb40a26",
   "metadata": {},
   "outputs": [],
   "source": [
    "sample = 100\n",
    "ru.show(stream, sample)"
   ]
  },
  {
   "cell_type": "markdown",
   "id": "5e8dd12a",
   "metadata": {},
   "source": [
    "## Read all entries and order them or not"
   ]
  },
  {
   "cell_type": "code",
   "execution_count": null,
   "id": "c49e34de",
   "metadata": {},
   "outputs": [],
   "source": [
    "ordered = True  # False\n",
    "\n",
    "return_dict = ru.read_all(stream, order=ordered)\n",
    "\n",
    "is_ordered = all(return_dict[i][\"timestamp\"] <= return_dict[i + 1][\"timestamp\"] for i in range(len(return_dict) - 1))\n",
    "print(f\"{len(return_dict)} items, ordered: {is_ordered}\")"
   ]
  },
  {
   "cell_type": "markdown",
   "id": "49ba0774",
   "metadata": {},
   "source": [
    "# Delete the stream"
   ]
  },
  {
   "cell_type": "code",
   "execution_count": null,
   "id": "84b3c223",
   "metadata": {},
   "outputs": [],
   "source": [
    "ru.delete(stream)"
   ]
  },
  {
   "cell_type": "markdown",
   "id": "6e315bac",
   "metadata": {},
   "source": [
    "## Test read_each by inserting items randomly and reading them"
   ]
  },
  {
   "cell_type": "code",
   "execution_count": null,
   "id": "d2c332eb",
   "metadata": {},
   "outputs": [],
   "source": [
    "# While you read each, also insert some entries once every 10 seconds, in a separate thread\n",
    "import threading\n",
    "from time import sleep    \n",
    "import random\n",
    "\n",
    "ru.delete('test_stream')\n",
    "def insert_entries():\n",
    "    # make the range 0-5 random\n",
    "    while True:\n",
    "        sleep(random.randint(0, 5))\n",
    "        # create a now timestamp with 6 decimals for new york time\n",
    "        now = datetime.now(pytz.timezone(\"America/New_York\"))\n",
    "        timestamp = now.strftime(\"%Y-%m-%dT%H:%M:%S.%fZ\")\n",
    "        item1 = {\"timestamp\": timestamp, \"price\": random.randint(0, 100), \"currency\": \"USD\"}\n",
    "        ru.write(stream, item1)\n",
    "\n",
    "# While you read each, also insert some entries once every 10 seconds, in a separate thread\n",
    "thread = threading.Thread(target=insert_entries)\n",
    "thread.start()\n",
    "\n",
    "for entry in ru.read_each(stream):\n",
    "    print(entry)"
   ]
  }
 ],
 "metadata": {
  "kernelspec": {
   "display_name": "Python 3",
   "language": "python",
   "name": "python3"
  },
  "language_info": {
   "codemirror_mode": {
    "name": "ipython",
    "version": 3
   },
   "file_extension": ".py",
   "mimetype": "text/x-python",
   "name": "python",
   "nbconvert_exporter": "python",
   "pygments_lexer": "ipython3",
   "version": "3.13.1"
  }
 },
 "nbformat": 4,
 "nbformat_minor": 5
}
